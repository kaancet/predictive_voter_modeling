{
 "cells": [
  {
   "cell_type": "code",
   "execution_count": 1,
   "metadata": {},
   "outputs": [],
   "source": [
    "import numpy as np\n",
    "from data_clean_utils import *\n",
    "from sklearn.decomposition import PCA\n",
    "from sklearn.preprocessing import StandardScaler\n",
    "import matplotlib.pyplot as plt"
   ]
  },
  {
   "cell_type": "code",
   "execution_count": 2,
   "metadata": {},
   "outputs": [],
   "source": [
    "# If working on a Windows machine try %matplotlib inline or %matplotlib qt instead of below line\n",
    "%matplotlib osx"
   ]
  },
  {
   "cell_type": "markdown",
   "metadata": {},
   "source": [
    "## Clean the data "
   ]
  },
  {
   "cell_type": "code",
   "execution_count": 3,
   "metadata": {},
   "outputs": [],
   "source": [
    "df = pl.read_csv('data/contacts.csv')\n",
    "# drop data that doesn't have membership value\n",
    "df_member = df.drop_nulls(subset=['Membership Level'])\n",
    "# clean all nulls\n",
    "df_dropped = drop_columns_that_are_all_null(df_member,verbose=False)\n",
    "# convert string date to dates\n",
    "df_date = convert_dates(df_dropped,verbose=False)"
   ]
  },
  {
   "cell_type": "markdown",
   "metadata": {},
   "source": [
    "## Do PCA in the numerical values"
   ]
  },
  {
   "cell_type": "code",
   "execution_count": 4,
   "metadata": {},
   "outputs": [
    {
     "name": "stdout",
     "output_type": "stream",
     "text": [
      "807\n"
     ]
    },
    {
     "data": {
      "text/html": [
       "<div><style>\n",
       ".dataframe > thead > tr,\n",
       ".dataframe > tbody > tr {\n",
       "  text-align: right;\n",
       "  white-space: pre-wrap;\n",
       "}\n",
       "</style>\n",
       "<small>shape: (5, 16)</small><table border=\"1\" class=\"dataframe\"><thead><tr><th>Number of Sales Activities</th><th>Number of times contacted</th><th>Number of Associated Deals</th><th>Average Pageviews</th><th>Number of Pageviews</th><th>Number of Sessions</th><th>Number of Form Submissions</th><th>Number of Unique Forms Submitted</th><th>Marketing emails clicked</th><th>Marketing emails delivered</th><th>Marketing emails opened</th><th>Sends Since Last Engagement</th><th>Big Survey - Staff Progress per Employee</th><th>Big Survey has Basegroup link</th><th>Number of Big Surveys Collected</th><th>Respondant Has Big Survey CampaignActivity</th></tr><tr><td>i64</td><td>i64</td><td>i64</td><td>i64</td><td>i64</td><td>i64</td><td>i64</td><td>i64</td><td>i64</td><td>i64</td><td>i64</td><td>i64</td><td>f64</td><td>i64</td><td>i64</td><td>i64</td></tr></thead><tbody><tr><td>7</td><td>2</td><td>3</td><td>6</td><td>2735</td><td>427</td><td>6</td><td>6</td><td>8</td><td>80</td><td>38</td><td>0</td><td>2.84</td><td>53</td><td>142</td><td>1</td></tr><tr><td>6</td><td>4</td><td>0</td><td>0</td><td>0</td><td>0</td><td>0</td><td>0</td><td>0</td><td>34</td><td>1</td><td>11</td><td>0.0</td><td>0</td><td>0</td><td>0</td></tr><tr><td>0</td><td>0</td><td>0</td><td>1</td><td>7</td><td>6</td><td>1</td><td>1</td><td>5</td><td>59</td><td>13</td><td>3</td><td>0.0</td><td>0</td><td>0</td><td>1</td></tr><tr><td>1</td><td>1</td><td>0</td><td>0</td><td>0</td><td>1</td><td>1</td><td>1</td><td>1</td><td>45</td><td>1</td><td>34</td><td>0.0</td><td>0</td><td>0</td><td>0</td></tr><tr><td>2</td><td>2</td><td>0</td><td>1</td><td>8</td><td>6</td><td>1</td><td>1</td><td>9</td><td>69</td><td>56</td><td>0</td><td>0.0</td><td>0</td><td>0</td><td>0</td></tr></tbody></table></div>"
      ],
      "text/plain": [
       "shape: (5, 16)\n",
       "┌───────────┬───────────┬───────────┬───────────┬───┬───────────┬───────────┬───────────┬──────────┐\n",
       "│ Number of ┆ Number of ┆ Number of ┆ Average   ┆ … ┆ Big       ┆ Big       ┆ Number of ┆ Responda │\n",
       "│ Sales Act ┆ times     ┆ Associate ┆ Pageviews ┆   ┆ Survey -  ┆ Survey    ┆ Big       ┆ nt Has   │\n",
       "│ ivities   ┆ contacted ┆ d Deals   ┆ ---       ┆   ┆ Staff     ┆ has       ┆ Surveys   ┆ Big      │\n",
       "│ ---       ┆ ---       ┆ ---       ┆ i64       ┆   ┆ Progress  ┆ Basegroup ┆ Collected ┆ Survey   │\n",
       "│ i64       ┆ i64       ┆ i64       ┆           ┆   ┆ per …     ┆ link      ┆ ---       ┆ Campai…  │\n",
       "│           ┆           ┆           ┆           ┆   ┆ ---       ┆ ---       ┆ i64       ┆ ---      │\n",
       "│           ┆           ┆           ┆           ┆   ┆ f64       ┆ i64       ┆           ┆ i64      │\n",
       "╞═══════════╪═══════════╪═══════════╪═══════════╪═══╪═══════════╪═══════════╪═══════════╪══════════╡\n",
       "│ 7         ┆ 2         ┆ 3         ┆ 6         ┆ … ┆ 2.84      ┆ 53        ┆ 142       ┆ 1        │\n",
       "│ 6         ┆ 4         ┆ 0         ┆ 0         ┆ … ┆ 0.0       ┆ 0         ┆ 0         ┆ 0        │\n",
       "│ 0         ┆ 0         ┆ 0         ┆ 1         ┆ … ┆ 0.0       ┆ 0         ┆ 0         ┆ 1        │\n",
       "│ 1         ┆ 1         ┆ 0         ┆ 0         ┆ … ┆ 0.0       ┆ 0         ┆ 0         ┆ 0        │\n",
       "│ 2         ┆ 2         ┆ 0         ┆ 1         ┆ … ┆ 0.0       ┆ 0         ┆ 0         ┆ 0        │\n",
       "└───────────┴───────────┴───────────┴───────────┴───┴───────────┴───────────┴───────────┴──────────┘"
      ]
     },
     "execution_count": 4,
     "metadata": {},
     "output_type": "execute_result"
    }
   ],
   "source": [
    "df_pca = df_date.clone()\n",
    "irrelevant_cols = ['Record ID - Contact', 'Likelihood to close', 'Latitude', 'Longitude', \n",
    "                   'Event Revenue','Net Basegroup Member Growth Since MF23',\n",
    "                   'Precise Basegroup Membership Net Growth for Focus Reports','Precise Basegroup Membership Net Growth Since Congress',\n",
    "                   'Basegroup Membership Net Growth']\n",
    "num_cols = []\n",
    "for col in df_pca:\n",
    "    if col.name not in irrelevant_cols:\n",
    "        if col.dtype in [pl.Int64,pl.Int32,pl.Float32,pl.Float64]:\n",
    "            # numerical values\n",
    "            tmp_unique = col.unique().drop_nulls()\n",
    "            if len(tmp_unique) > 2:\n",
    "                # more than 1 unique value1, should get rid of constants\n",
    "                num_cols.append(col.name)\n",
    "df_pca = df_pca.select(num_cols)\n",
    "df_pca = df_pca.with_columns(pl.col(\"*\").fill_null(strategy=\"zero\"))\n",
    "\n",
    "print(len(df_pca))\n",
    "df_pca.head()"
   ]
  },
  {
   "cell_type": "code",
   "execution_count": 5,
   "metadata": {},
   "outputs": [
    {
     "name": "stdout",
     "output_type": "stream",
     "text": [
      "[36.27529294 17.34346206 14.14349248]\n"
     ]
    }
   ],
   "source": [
    "variables = df_pca.to_pandas()\n",
    "x = StandardScaler().fit_transform(variables)\n",
    "pca = PCA(n_components=3)\n",
    "\n",
    "x_new = pca.fit_transform(x)\n",
    "coeff = np.transpose(pca.components_[0:3,:])\n",
    "target = df_date.select('Membership Level').to_numpy()\n",
    "feature_labels = df_pca.columns\n",
    "class_labels = ['Militant','Basegroup','Consultative']\n",
    "\n",
    "print(pca.explained_variance_ratio_*100)"
   ]
  },
  {
   "cell_type": "markdown",
   "metadata": {},
   "source": [
    "## Plot PCA and feature "
   ]
  },
  {
   "cell_type": "code",
   "execution_count": 6,
   "metadata": {},
   "outputs": [],
   "source": [
    "def plot_PCA(score:np.ndarray,\n",
    "             coeff:np.ndarray,\n",
    "             targets:np.ndarray,\n",
    "             num_features:int=None,\n",
    "             feature_labels=None) -> None:\n",
    "    fig = plt.figure(figsize = (8,8))\n",
    "    ax = fig.add_subplot(1,1,1,projection='3d') \n",
    "    \n",
    "    if num_features is None:\n",
    "        num_features = len(coeff)\n",
    "        \n",
    "    num_features=5\n",
    "    tops = (coeff ** 2).sum(axis=1).argsort()[-num_features:]\n",
    "    arrows = coeff[tops]\n",
    "\n",
    "    xs = score[:,0]\n",
    "    ys = score[:,1]\n",
    "    zs = score[:,2]\n",
    "    scalex = 1.0/(xs.max() - xs.min())\n",
    "    scaley = 1.0/(ys.max() - ys.min())\n",
    "    scalez = 1.0/(zs.max() - zs.min())\n",
    "    \n",
    "    class_labels = np.unique(targets)\n",
    "    color_dict = dict(zip(class_labels,np.arange(0,len(class_labels))))\n",
    "    label_vals = [color_dict[k[0]] for k in targets]\n",
    "    \n",
    "    s = ax.scatter(xs * scalex,ys * scaley, zs*scalez, c=label_vals, cmap = 'jet', vmin=0,vmax=2)\n",
    "    for i in range(num_features):\n",
    "        ax.quiver(0, 0, 0, arrows[i,0], arrows[i,1], arrows[i,2], color = 'r',alpha = 0.5)\n",
    "        if feature_labels is None:\n",
    "            ax.text(arrows[i,0]* 1.15, arrows[i,1] * 1.15, arrows[i,2]*1.15, \"Var\"+str(i+1), color = 'k', ha = 'center', va = 'center')\n",
    "        else:\n",
    "            ax.text(arrows[i,0]* 1.15, arrows[i,1] * 1.15, arrows[i,2]*1.15, feature_labels[i], color = 'k', ha = 'center', va = 'center')\n",
    "\n",
    "    fontsize = 16\n",
    "    ax.set_xlabel('PC 1', fontsize=fontsize)\n",
    "    ax.set_ylabel('PC 2', fontsize=fontsize)\n",
    "    ax.set_zlabel('PC 3', fontsize=fontsize)\n",
    "    ax.tick_params(labelsize=fontsize,width=3,length=8)\n",
    "    \n",
    "    # ax.spines['top'].set_visible(False)\n",
    "    # ax.spines['right'].set_visible(False)\n",
    "    # ax.spines['left'].set_linewidth(2)\n",
    "    # ax.spines['bottom'].set_linewidth(2)\n",
    "    # ax.spines['left'].set_position(('outward',10))\n",
    "    # ax.spines['bottom'].set_position(('outward',10))\n",
    "    \n",
    "    plt.legend(s.legend_elements()[0], class_labels,fontsize=fontsize,frameon=False)\n"
   ]
  },
  {
   "cell_type": "code",
   "execution_count": 7,
   "metadata": {},
   "outputs": [],
   "source": [
    "plot_PCA(score=x_new,\n",
    "         coeff=coeff,\n",
    "         targets=target,\n",
    "         num_features=7,\n",
    "         feature_labels=feature_labels)"
   ]
  },
  {
   "cell_type": "code",
   "execution_count": 8,
   "metadata": {},
   "outputs": [
    {
     "data": {
      "text/plain": [
       "Text(0, 0.5, 'Effect in dimension')"
      ]
     },
     "execution_count": 8,
     "metadata": {},
     "output_type": "execute_result"
    }
   ],
   "source": [
    "ff = plt.figure(figsize=(8,8))\n",
    "ax = ff.add_subplot(111)\n",
    "\n",
    "s=ax.imshow(coeff,cmap='twilight_shifted')\n",
    "ax.set_xticks([0,1,2])\n",
    "ax.set_xticklabels(['PCA1','PCA2','PCA3'])\n",
    "ax.set_yticks([i for i in range(len(df_pca.columns))])\n",
    "ax.set_yticklabels(df_pca.columns)\n",
    "\n",
    "ax.set_title(f'Explained Variance: {round(np.sum(pca.explained_variance_ratio_*100),2)}%')\n",
    "# colorbar\n",
    "fontsize=12\n",
    "cbar =ff.colorbar(s)\n",
    "cbar.ax.tick_params(labelsize=fontsize,width=1,length=6)\n",
    "cbar.ax.set_ylabel('Effect in dimension', fontsize=fontsize)"
   ]
  }
 ],
 "metadata": {
  "kernelspec": {
   "display_name": "pvda",
   "language": "python",
   "name": "python3"
  },
  "language_info": {
   "codemirror_mode": {
    "name": "ipython",
    "version": 3
   },
   "file_extension": ".py",
   "mimetype": "text/x-python",
   "name": "python",
   "nbconvert_exporter": "python",
   "pygments_lexer": "ipython3",
   "version": "3.11.7"
  }
 },
 "nbformat": 4,
 "nbformat_minor": 2
}
