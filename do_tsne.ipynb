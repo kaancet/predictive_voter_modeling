{
 "cells": [
  {
   "cell_type": "code",
   "execution_count": 77,
   "metadata": {},
   "outputs": [],
   "source": [
    "import numpy as np\n",
    "from data_clean_utils import *\n",
    "from sklearn.manifold import TSNE\n",
    "from sklearn.preprocessing import StandardScaler\n",
    "import matplotlib.pyplot as plt\n",
    "import matplotlib as mpl"
   ]
  },
  {
   "cell_type": "code",
   "execution_count": null,
   "metadata": {},
   "outputs": [],
   "source": [
    "# If working on a Windows machine try %matplotlib inline or %matplotlib qt instead of below line\n",
    "%matplotlib osx"
   ]
  },
  {
   "cell_type": "code",
   "execution_count": 87,
   "metadata": {},
   "outputs": [],
   "source": [
    "df = pl.read_csv('data/contacts.csv')\n",
    "# clean all nulls\n",
    "df_dropped = drop_columns_that_are_all_null(df,verbose=False)\n",
    "# convert string date to dates\n",
    "df_date = convert_dates(df_dropped,verbose=False)\n",
    "# drop data that doesn't have membership value\n",
    "df_member = df_date.drop_nulls(subset=['Membership Level'])"
   ]
  },
  {
   "cell_type": "code",
   "execution_count": 102,
   "metadata": {},
   "outputs": [
    {
     "name": "stdout",
     "output_type": "stream",
     "text": [
      "807\n"
     ]
    },
    {
     "data": {
      "text/html": [
       "<div><style>\n",
       ".dataframe > thead > tr,\n",
       ".dataframe > tbody > tr {\n",
       "  text-align: right;\n",
       "  white-space: pre-wrap;\n",
       "}\n",
       "</style>\n",
       "<small>shape: (9, 17)</small><table border=\"1\" class=\"dataframe\"><thead><tr><th>describe</th><th>Number of Sales Activities</th><th>Number of times contacted</th><th>Number of Associated Deals</th><th>Average Pageviews</th><th>Number of Pageviews</th><th>Number of Sessions</th><th>Number of Form Submissions</th><th>Number of Unique Forms Submitted</th><th>Marketing emails clicked</th><th>Marketing emails delivered</th><th>Marketing emails opened</th><th>Sends Since Last Engagement</th><th>Big Survey - Staff Progress per Employee</th><th>Big Survey has Basegroup link</th><th>Number of Big Surveys Collected</th><th>Respondant Has Big Survey CampaignActivity</th></tr><tr><td>str</td><td>f64</td><td>f64</td><td>f64</td><td>f64</td><td>f64</td><td>f64</td><td>f64</td><td>f64</td><td>f64</td><td>f64</td><td>f64</td><td>f64</td><td>f64</td><td>f64</td><td>f64</td><td>f64</td></tr></thead><tbody><tr><td>&quot;count&quot;</td><td>807.0</td><td>807.0</td><td>807.0</td><td>807.0</td><td>807.0</td><td>807.0</td><td>807.0</td><td>807.0</td><td>807.0</td><td>807.0</td><td>807.0</td><td>807.0</td><td>807.0</td><td>807.0</td><td>807.0</td><td>807.0</td></tr><tr><td>&quot;null_count&quot;</td><td>0.0</td><td>0.0</td><td>0.0</td><td>0.0</td><td>0.0</td><td>0.0</td><td>0.0</td><td>0.0</td><td>0.0</td><td>0.0</td><td>0.0</td><td>0.0</td><td>0.0</td><td>0.0</td><td>0.0</td><td>0.0</td></tr><tr><td>&quot;mean&quot;</td><td>2.105328</td><td>1.468401</td><td>0.610905</td><td>1.443618</td><td>85.092937</td><td>16.607187</td><td>2.561338</td><td>2.022305</td><td>4.317224</td><td>50.449814</td><td>16.241636</td><td>9.095415</td><td>0.063544</td><td>2.972739</td><td>3.178439</td><td>0.57373</td></tr><tr><td>&quot;std&quot;</td><td>10.289244</td><td>4.525766</td><td>3.908035</td><td>2.265061</td><td>479.979652</td><td>54.272569</td><td>4.35957</td><td>2.608347</td><td>7.525374</td><td>28.010493</td><td>21.002241</td><td>12.845216</td><td>0.402509</td><td>19.358425</td><td>20.125299</td><td>0.652693</td></tr><tr><td>&quot;min&quot;</td><td>0.0</td><td>0.0</td><td>0.0</td><td>0.0</td><td>0.0</td><td>0.0</td><td>0.0</td><td>0.0</td><td>0.0</td><td>0.0</td><td>0.0</td><td>0.0</td><td>0.0</td><td>0.0</td><td>0.0</td><td>0.0</td></tr><tr><td>&quot;25%&quot;</td><td>0.0</td><td>0.0</td><td>0.0</td><td>0.0</td><td>0.0</td><td>0.0</td><td>0.0</td><td>0.0</td><td>0.0</td><td>33.0</td><td>1.0</td><td>1.0</td><td>0.0</td><td>0.0</td><td>0.0</td><td>0.0</td></tr><tr><td>&quot;50%&quot;</td><td>1.0</td><td>0.0</td><td>0.0</td><td>1.0</td><td>4.0</td><td>3.0</td><td>1.0</td><td>1.0</td><td>1.0</td><td>54.0</td><td>7.0</td><td>3.0</td><td>0.0</td><td>0.0</td><td>0.0</td><td>0.0</td></tr><tr><td>&quot;75%&quot;</td><td>2.0</td><td>2.0</td><td>0.0</td><td>2.0</td><td>19.0</td><td>10.0</td><td>3.0</td><td>3.0</td><td>6.0</td><td>68.0</td><td>25.0</td><td>12.0</td><td>0.0</td><td>0.0</td><td>0.0</td><td>1.0</td></tr><tr><td>&quot;max&quot;</td><td>266.0</td><td>105.0</td><td>74.0</td><td>35.0</td><td>10308.0</td><td>716.0</td><td>83.0</td><td>35.0</td><td>69.0</td><td>135.0</td><td>128.0</td><td>65.0</td><td>7.6</td><td>380.0</td><td>380.0</td><td>4.0</td></tr></tbody></table></div>"
      ],
      "text/plain": [
       "shape: (9, 17)\n",
       "┌───────────┬───────────┬───────────┬───────────┬───┬───────────┬───────────┬───────────┬──────────┐\n",
       "│ describe  ┆ Number of ┆ Number of ┆ Number of ┆ … ┆ Big       ┆ Big       ┆ Number of ┆ Responda │\n",
       "│ ---       ┆ Sales Act ┆ times     ┆ Associate ┆   ┆ Survey -  ┆ Survey    ┆ Big       ┆ nt Has   │\n",
       "│ str       ┆ ivities   ┆ contacted ┆ d Deals   ┆   ┆ Staff     ┆ has       ┆ Surveys   ┆ Big      │\n",
       "│           ┆ ---       ┆ ---       ┆ ---       ┆   ┆ Progress  ┆ Basegroup ┆ Collected ┆ Survey   │\n",
       "│           ┆ f64       ┆ f64       ┆ f64       ┆   ┆ per …     ┆ link      ┆ ---       ┆ Campai…  │\n",
       "│           ┆           ┆           ┆           ┆   ┆ ---       ┆ ---       ┆ f64       ┆ ---      │\n",
       "│           ┆           ┆           ┆           ┆   ┆ f64       ┆ f64       ┆           ┆ f64      │\n",
       "╞═══════════╪═══════════╪═══════════╪═══════════╪═══╪═══════════╪═══════════╪═══════════╪══════════╡\n",
       "│ count     ┆ 807.0     ┆ 807.0     ┆ 807.0     ┆ … ┆ 807.0     ┆ 807.0     ┆ 807.0     ┆ 807.0    │\n",
       "│ null_coun ┆ 0.0       ┆ 0.0       ┆ 0.0       ┆ … ┆ 0.0       ┆ 0.0       ┆ 0.0       ┆ 0.0      │\n",
       "│ t         ┆           ┆           ┆           ┆   ┆           ┆           ┆           ┆          │\n",
       "│ mean      ┆ 2.105328  ┆ 1.468401  ┆ 0.610905  ┆ … ┆ 0.063544  ┆ 2.972739  ┆ 3.178439  ┆ 0.57373  │\n",
       "│ std       ┆ 10.289244 ┆ 4.525766  ┆ 3.908035  ┆ … ┆ 0.402509  ┆ 19.358425 ┆ 20.125299 ┆ 0.652693 │\n",
       "│ min       ┆ 0.0       ┆ 0.0       ┆ 0.0       ┆ … ┆ 0.0       ┆ 0.0       ┆ 0.0       ┆ 0.0      │\n",
       "│ 25%       ┆ 0.0       ┆ 0.0       ┆ 0.0       ┆ … ┆ 0.0       ┆ 0.0       ┆ 0.0       ┆ 0.0      │\n",
       "│ 50%       ┆ 1.0       ┆ 0.0       ┆ 0.0       ┆ … ┆ 0.0       ┆ 0.0       ┆ 0.0       ┆ 0.0      │\n",
       "│ 75%       ┆ 2.0       ┆ 2.0       ┆ 0.0       ┆ … ┆ 0.0       ┆ 0.0       ┆ 0.0       ┆ 1.0      │\n",
       "│ max       ┆ 266.0     ┆ 105.0     ┆ 74.0      ┆ … ┆ 7.6       ┆ 380.0     ┆ 380.0     ┆ 4.0      │\n",
       "└───────────┴───────────┴───────────┴───────────┴───┴───────────┴───────────┴───────────┴──────────┘"
      ]
     },
     "execution_count": 102,
     "metadata": {},
     "output_type": "execute_result"
    }
   ],
   "source": [
    "df_tsne = df_member.clone()\n",
    "irrelevant_cols = ['Record ID - Contact', 'Likelihood to close', 'Latitude', 'Longitude', 'Marketing emails bounced'\n",
    "                   'Event Revenue','Net Basegroup Member Growth Since MF23',\n",
    "                   'Precise Basegroup Membership Net Growth for Focus Reports','Precise Basegroup Membership Net Growth Since Congress',\n",
    "                   'Basegroup Membership Net Growth']\n",
    "num_cols = []\n",
    "for col in df_tsne:\n",
    "    if col.name not in irrelevant_cols:\n",
    "        if col.dtype in [pl.Int64,pl.Int32,pl.Float32,pl.Float64]:\n",
    "            # numerical values\n",
    "            tmp_unique = col.unique().drop_nulls()\n",
    "            if len(tmp_unique) > 2:\n",
    "                # more than 1 unique value1, should get rid of constants\n",
    "                num_cols.append(col.name)\n",
    "df_tsne = df_tsne.select(num_cols)\n",
    "df_tsne = df_tsne.with_columns(pl.col(\"*\").fill_null(strategy=\"zero\"))\n",
    "\n",
    "print(len(df_tsne))\n",
    "df_tsne.describe()"
   ]
  },
  {
   "cell_type": "code",
   "execution_count": 100,
   "metadata": {},
   "outputs": [
    {
     "data": {
      "text/plain": [
       "['Number of Sales Activities',\n",
       " 'Number of times contacted',\n",
       " 'Number of Associated Deals',\n",
       " 'Average Pageviews',\n",
       " 'Number of Pageviews',\n",
       " 'Number of Sessions',\n",
       " 'Number of Form Submissions',\n",
       " 'Number of Unique Forms Submitted',\n",
       " 'Marketing emails clicked',\n",
       " 'Marketing emails delivered',\n",
       " 'Marketing emails opened',\n",
       " 'Sends Since Last Engagement',\n",
       " 'Big Survey - Staff Progress per Employee',\n",
       " 'Big Survey has Basegroup link',\n",
       " 'Number of Big Surveys Collected',\n",
       " 'Respondant Has Big Survey CampaignActivity']"
      ]
     },
     "execution_count": 100,
     "metadata": {},
     "output_type": "execute_result"
    }
   ],
   "source": [
    "df_tsne.columns"
   ]
  },
  {
   "cell_type": "code",
   "execution_count": 103,
   "metadata": {},
   "outputs": [
    {
     "name": "stdout",
     "output_type": "stream",
     "text": [
      "[t-SNE] Computing 91 nearest neighbors...\n",
      "[t-SNE] Indexed 807 samples in 0.000s...\n",
      "[t-SNE] Computed neighbors for 807 samples in 0.010s...\n",
      "[t-SNE] Computed conditional probabilities for sample 807 / 807\n",
      "[t-SNE] Mean sigma: 5.218514\n",
      "[t-SNE] KL divergence after 250 iterations with early exaggeration: 57.338074\n",
      "[t-SNE] KL divergence after 3700 iterations: 0.500296\n"
     ]
    }
   ],
   "source": [
    "variables = df_tsne.to_pandas()\n",
    "targets = df_member['Membership Level'].to_numpy()\n",
    "likelihood = df_member['Likelihood to close'].to_numpy()\n",
    "tsne = TSNE(n_components=2, verbose=1, perplexity=30, n_iter=5000)\n",
    "tsne_results = tsne.fit_transform(variables)"
   ]
  },
  {
   "cell_type": "code",
   "execution_count": 110,
   "metadata": {},
   "outputs": [],
   "source": [
    "def plot_tSNE(tsne_results:np.ndarray,targets=None,likelihood=None, is2d:str=True):\n",
    "    f = plt.figure(figsize=(8,8))\n",
    "    if is2d:\n",
    "        ax = f.add_subplot(111)\n",
    "    else:\n",
    "        ax = f.add_subplot(111,projection='3d')\n",
    "\n",
    "    if likelihood is None:\n",
    "        class_labels = np.unique(targets)\n",
    "        color_dict = dict(zip(class_labels,np.arange(0,len(class_labels))))\n",
    "        label_vals = [color_dict[k] for k in targets]\n",
    "        vmin=0\n",
    "        vmax=len(class_labels)-1\n",
    "    else:\n",
    "        label_vals = likelihood\n",
    "        vmin = 0\n",
    "        vmax = 100\n",
    "\n",
    "    cmap = mpl.colormaps.get_cmap('jet')  # viridis is the default colormap for imshow\n",
    "    cmap.set_bad(color='black')\n",
    "\n",
    "    if is2d:\n",
    "        s=ax.scatter(tsne_results[:,0],tsne_results[:,1],c=label_vals, cmap = cmap, vmin=vmin,vmax=vmax)\n",
    "    else:\n",
    "        s=ax.scatter(tsne_results[:,0],tsne_results[:,1],tsne_results[:,2],\n",
    "                     linewidtsh=2,\n",
    "                     c=label_vals, \n",
    "                     edgecolors='k',\n",
    "                     cmap = 'jet', \n",
    "                     vmin=0,vmax=2)\n",
    "      \n",
    "    annot = ax.annotate(\"\", xy=(0,0), xytext=(20,20),textcoords=\"offset points\",\n",
    "                    bbox=dict(boxstyle=\"round\", fc=\"w\"),\n",
    "                    arrowprops=dict(arrowstyle=\"->\"))\n",
    "    annot.set_visible(False)\n",
    "    \n",
    "    def update_annot(ind):\n",
    "        pos = s.get_offsets()[ind[\"ind\"][0]]\n",
    "        annot.xy = pos\n",
    "        text = f\"hello\"\n",
    "        annot.set_text(text)\n",
    "        annot.get_bbox_patch().set_facecolor('white')\n",
    "        annot.get_bbox_patch().set_alpha(0.4)\n",
    "\n",
    "\n",
    "    fontsize = 16\n",
    "    ax.set_xlabel('tSNE-1', fontsize=fontsize)\n",
    "    ax.set_ylabel('tSNE-2', fontsize=fontsize)\n",
    "    if not is2d:\n",
    "        ax.set_zlabel('tSNE-3', fontsize=fontsize)\n",
    "    ax.tick_params(labelsize=fontsize,width=1,length=6)\n",
    "\n",
    "    ax.spines['top'].set_visible(False)\n",
    "    ax.spines['right'].set_visible(False)\n",
    "\n",
    "    if likelihood is None:\n",
    "        plt.legend(s.legend_elements()[0], class_labels,fontsize=fontsize,frameon=False)\n",
    "    else:\n",
    "        # colorbar\n",
    "        cbar =f.colorbar(s)\n",
    "        cbar.ax.tick_params(labelsize=fontsize,width=1,length=6)\n",
    "        cbar.ax.set_ylabel('Likelihood', fontsize=fontsize)\n",
    "        \n",
    "    f.canvas.mpl_connect(\"motion_notify_event\", hover)\n"
   ]
  },
  {
   "cell_type": "code",
   "execution_count": 107,
   "metadata": {},
   "outputs": [],
   "source": [
    "plot_tSNE(tsne_results,targets,likelihood)"
   ]
  },
  {
   "cell_type": "markdown",
   "metadata": {},
   "source": [
    "## Now do the same on non member data"
   ]
  },
  {
   "cell_type": "code",
   "execution_count": 95,
   "metadata": {},
   "outputs": [],
   "source": [
    "df_non_member = df_date.filter(pl.col('Membership Level').is_null())"
   ]
  },
  {
   "cell_type": "code",
   "execution_count": 97,
   "metadata": {},
   "outputs": [
    {
     "name": "stdout",
     "output_type": "stream",
     "text": [
      "19193\n"
     ]
    },
    {
     "data": {
      "text/html": [
       "<div><style>\n",
       ".dataframe > thead > tr,\n",
       ".dataframe > tbody > tr {\n",
       "  text-align: right;\n",
       "  white-space: pre-wrap;\n",
       "}\n",
       "</style>\n",
       "<small>shape: (9, 18)</small><table border=\"1\" class=\"dataframe\"><thead><tr><th>describe</th><th>Number of Sales Activities</th><th>Number of times contacted</th><th>Number of Associated Deals</th><th>Average Pageviews</th><th>Number of Pageviews</th><th>Number of Sessions</th><th>Number of Form Submissions</th><th>Number of Unique Forms Submitted</th><th>Marketing emails bounced</th><th>Marketing emails clicked</th><th>Marketing emails delivered</th><th>Marketing emails opened</th><th>Sends Since Last Engagement</th><th>Big Survey - Staff Progress per Employee</th><th>Big Survey has Basegroup link</th><th>Number of Big Surveys Collected</th><th>Respondant Has Big Survey CampaignActivity</th></tr><tr><td>str</td><td>f64</td><td>f64</td><td>f64</td><td>f64</td><td>f64</td><td>f64</td><td>f64</td><td>f64</td><td>f64</td><td>f64</td><td>f64</td><td>f64</td><td>f64</td><td>f64</td><td>f64</td><td>f64</td><td>f64</td></tr></thead><tbody><tr><td>&quot;count&quot;</td><td>19193.0</td><td>19193.0</td><td>19193.0</td><td>19193.0</td><td>19193.0</td><td>19193.0</td><td>19193.0</td><td>19193.0</td><td>19193.0</td><td>19193.0</td><td>19193.0</td><td>19193.0</td><td>19193.0</td><td>19193.0</td><td>19193.0</td><td>19193.0</td><td>19193.0</td></tr><tr><td>&quot;null_count&quot;</td><td>0.0</td><td>0.0</td><td>0.0</td><td>0.0</td><td>0.0</td><td>0.0</td><td>0.0</td><td>0.0</td><td>0.0</td><td>0.0</td><td>0.0</td><td>0.0</td><td>0.0</td><td>0.0</td><td>0.0</td><td>0.0</td><td>0.0</td></tr><tr><td>&quot;mean&quot;</td><td>0.055385</td><td>0.024488</td><td>0.010941</td><td>0.437034</td><td>1.393268</td><td>0.795655</td><td>0.420153</td><td>0.367426</td><td>0.01834</td><td>0.278383</td><td>7.93706</td><td>1.541395</td><td>3.352889</td><td>0.000082</td><td>0.0124</td><td>0.004116</td><td>0.041109</td></tr><tr><td>&quot;std&quot;</td><td>2.854906</td><td>0.272821</td><td>0.541701</td><td>1.115051</td><td>12.245644</td><td>3.733269</td><td>0.861074</td><td>0.651133</td><td>0.152023</td><td>1.55689</td><td>14.675793</td><td>5.376059</td><td>7.658132</td><td>0.004914</td><td>0.11573</td><td>0.245709</td><td>0.221378</td></tr><tr><td>&quot;min&quot;</td><td>0.0</td><td>0.0</td><td>0.0</td><td>0.0</td><td>0.0</td><td>0.0</td><td>0.0</td><td>0.0</td><td>0.0</td><td>0.0</td><td>0.0</td><td>0.0</td><td>0.0</td><td>0.0</td><td>0.0</td><td>0.0</td><td>0.0</td></tr><tr><td>&quot;25%&quot;</td><td>0.0</td><td>0.0</td><td>0.0</td><td>0.0</td><td>0.0</td><td>0.0</td><td>0.0</td><td>0.0</td><td>0.0</td><td>0.0</td><td>0.0</td><td>0.0</td><td>0.0</td><td>0.0</td><td>0.0</td><td>0.0</td><td>0.0</td></tr><tr><td>&quot;50%&quot;</td><td>0.0</td><td>0.0</td><td>0.0</td><td>0.0</td><td>0.0</td><td>0.0</td><td>0.0</td><td>0.0</td><td>0.0</td><td>0.0</td><td>0.0</td><td>0.0</td><td>0.0</td><td>0.0</td><td>0.0</td><td>0.0</td><td>0.0</td></tr><tr><td>&quot;75%&quot;</td><td>0.0</td><td>0.0</td><td>0.0</td><td>1.0</td><td>1.0</td><td>1.0</td><td>1.0</td><td>1.0</td><td>0.0</td><td>0.0</td><td>10.0</td><td>0.0</td><td>1.0</td><td>0.0</td><td>0.0</td><td>0.0</td><td>0.0</td></tr><tr><td>&quot;max&quot;</td><td>391.0</td><td>12.0</td><td>59.0</td><td>49.0</td><td>1225.0</td><td>334.0</td><td>23.0</td><td>12.0</td><td>6.0</td><td>42.0</td><td>88.0</td><td>73.0</td><td>42.0</td><td>0.48</td><td>3.0</td><td>24.0</td><td>4.0</td></tr></tbody></table></div>"
      ],
      "text/plain": [
       "shape: (9, 18)\n",
       "┌───────────┬───────────┬───────────┬───────────┬───┬───────────┬───────────┬───────────┬──────────┐\n",
       "│ describe  ┆ Number of ┆ Number of ┆ Number of ┆ … ┆ Big       ┆ Big       ┆ Number of ┆ Responda │\n",
       "│ ---       ┆ Sales Act ┆ times     ┆ Associate ┆   ┆ Survey -  ┆ Survey    ┆ Big       ┆ nt Has   │\n",
       "│ str       ┆ ivities   ┆ contacted ┆ d Deals   ┆   ┆ Staff     ┆ has       ┆ Surveys   ┆ Big      │\n",
       "│           ┆ ---       ┆ ---       ┆ ---       ┆   ┆ Progress  ┆ Basegroup ┆ Collected ┆ Survey   │\n",
       "│           ┆ f64       ┆ f64       ┆ f64       ┆   ┆ per …     ┆ link      ┆ ---       ┆ Campai…  │\n",
       "│           ┆           ┆           ┆           ┆   ┆ ---       ┆ ---       ┆ f64       ┆ ---      │\n",
       "│           ┆           ┆           ┆           ┆   ┆ f64       ┆ f64       ┆           ┆ f64      │\n",
       "╞═══════════╪═══════════╪═══════════╪═══════════╪═══╪═══════════╪═══════════╪═══════════╪══════════╡\n",
       "│ count     ┆ 19193.0   ┆ 19193.0   ┆ 19193.0   ┆ … ┆ 19193.0   ┆ 19193.0   ┆ 19193.0   ┆ 19193.0  │\n",
       "│ null_coun ┆ 0.0       ┆ 0.0       ┆ 0.0       ┆ … ┆ 0.0       ┆ 0.0       ┆ 0.0       ┆ 0.0      │\n",
       "│ t         ┆           ┆           ┆           ┆   ┆           ┆           ┆           ┆          │\n",
       "│ mean      ┆ 0.055385  ┆ 0.024488  ┆ 0.010941  ┆ … ┆ 0.000082  ┆ 0.0124    ┆ 0.004116  ┆ 0.041109 │\n",
       "│ std       ┆ 2.854906  ┆ 0.272821  ┆ 0.541701  ┆ … ┆ 0.004914  ┆ 0.11573   ┆ 0.245709  ┆ 0.221378 │\n",
       "│ min       ┆ 0.0       ┆ 0.0       ┆ 0.0       ┆ … ┆ 0.0       ┆ 0.0       ┆ 0.0       ┆ 0.0      │\n",
       "│ 25%       ┆ 0.0       ┆ 0.0       ┆ 0.0       ┆ … ┆ 0.0       ┆ 0.0       ┆ 0.0       ┆ 0.0      │\n",
       "│ 50%       ┆ 0.0       ┆ 0.0       ┆ 0.0       ┆ … ┆ 0.0       ┆ 0.0       ┆ 0.0       ┆ 0.0      │\n",
       "│ 75%       ┆ 0.0       ┆ 0.0       ┆ 0.0       ┆ … ┆ 0.0       ┆ 0.0       ┆ 0.0       ┆ 0.0      │\n",
       "│ max       ┆ 391.0     ┆ 12.0      ┆ 59.0      ┆ … ┆ 0.48      ┆ 3.0       ┆ 24.0      ┆ 4.0      │\n",
       "└───────────┴───────────┴───────────┴───────────┴───┴───────────┴───────────┴───────────┴──────────┘"
      ]
     },
     "execution_count": 97,
     "metadata": {},
     "output_type": "execute_result"
    }
   ],
   "source": [
    "df_tsne_non = df_non_member.clone()\n",
    "irrelevant_cols = ['Record ID - Contact', 'Likelihood to close', 'Latitude', 'Longitude', \n",
    "                   'Event Revenue','Net Basegroup Member Growth Since MF23',\n",
    "                   'Precise Basegroup Membership Net Growth for Focus Reports','Precise Basegroup Membership Net Growth Since Congress',\n",
    "                   'Basegroup Membership Net Growth']\n",
    "num_cols = []\n",
    "for col in df_tsne_non:\n",
    "    if col.name not in irrelevant_cols:\n",
    "        if col.dtype in [pl.Int64,pl.Int32,pl.Float32,pl.Float64]:\n",
    "            # numerical values\n",
    "            tmp_unique = col.unique().drop_nulls()\n",
    "            if len(tmp_unique) > 2:\n",
    "                # more than 1 unique value1, should get rid of constants\n",
    "                num_cols.append(col.name)\n",
    "df_tsne_non = df_tsne_non.select(num_cols)\n",
    "df_tsne_non = df_tsne_non.with_columns(pl.col(\"*\").fill_null(strategy=\"zero\"))\n",
    "\n",
    "print(len(df_tsne_non))\n",
    "df_tsne_non.describe()"
   ]
  },
  {
   "cell_type": "code",
   "execution_count": 101,
   "metadata": {},
   "outputs": [
    {
     "data": {
      "text/plain": [
       "['Number of Sales Activities',\n",
       " 'Number of times contacted',\n",
       " 'Number of Associated Deals',\n",
       " 'Average Pageviews',\n",
       " 'Number of Pageviews',\n",
       " 'Number of Sessions',\n",
       " 'Number of Form Submissions',\n",
       " 'Number of Unique Forms Submitted',\n",
       " 'Marketing emails bounced',\n",
       " 'Marketing emails clicked',\n",
       " 'Marketing emails delivered',\n",
       " 'Marketing emails opened',\n",
       " 'Sends Since Last Engagement',\n",
       " 'Big Survey - Staff Progress per Employee',\n",
       " 'Big Survey has Basegroup link',\n",
       " 'Number of Big Surveys Collected',\n",
       " 'Respondant Has Big Survey CampaignActivity']"
      ]
     },
     "execution_count": 101,
     "metadata": {},
     "output_type": "execute_result"
    }
   ],
   "source": [
    "df_tsne_non.columns"
   ]
  },
  {
   "cell_type": "code",
   "execution_count": 115,
   "metadata": {},
   "outputs": [],
   "source": [
    "# sample 2000\n",
    "sample_df_tsne_non = df_tsne_non.sample(n=2000)"
   ]
  },
  {
   "cell_type": "code",
   "execution_count": 111,
   "metadata": {},
   "outputs": [
    {
     "name": "stdout",
     "output_type": "stream",
     "text": [
      "[t-SNE] Computing 91 nearest neighbors...\n",
      "[t-SNE] Indexed 19193 samples in 0.001s...\n",
      "[t-SNE] Computed neighbors for 19193 samples in 0.397s...\n",
      "[t-SNE] Computed conditional probabilities for sample 1000 / 19193\n",
      "[t-SNE] Computed conditional probabilities for sample 2000 / 19193\n",
      "[t-SNE] Computed conditional probabilities for sample 3000 / 19193\n",
      "[t-SNE] Computed conditional probabilities for sample 4000 / 19193\n",
      "[t-SNE] Computed conditional probabilities for sample 5000 / 19193\n",
      "[t-SNE] Computed conditional probabilities for sample 6000 / 19193\n",
      "[t-SNE] Computed conditional probabilities for sample 7000 / 19193\n",
      "[t-SNE] Computed conditional probabilities for sample 8000 / 19193\n",
      "[t-SNE] Computed conditional probabilities for sample 9000 / 19193\n",
      "[t-SNE] Computed conditional probabilities for sample 10000 / 19193\n",
      "[t-SNE] Computed conditional probabilities for sample 11000 / 19193\n",
      "[t-SNE] Computed conditional probabilities for sample 12000 / 19193\n",
      "[t-SNE] Computed conditional probabilities for sample 13000 / 19193\n",
      "[t-SNE] Computed conditional probabilities for sample 14000 / 19193\n",
      "[t-SNE] Computed conditional probabilities for sample 15000 / 19193\n",
      "[t-SNE] Computed conditional probabilities for sample 16000 / 19193\n",
      "[t-SNE] Computed conditional probabilities for sample 17000 / 19193\n",
      "[t-SNE] Computed conditional probabilities for sample 18000 / 19193\n",
      "[t-SNE] Computed conditional probabilities for sample 19000 / 19193\n",
      "[t-SNE] Computed conditional probabilities for sample 19193 / 19193\n",
      "[t-SNE] Mean sigma: 0.000000\n",
      "[t-SNE] KL divergence after 250 iterations with early exaggeration: 89.803757\n",
      "[t-SNE] KL divergence after 5000 iterations: 0.316195\n"
     ]
    }
   ],
   "source": [
    "variables_non = sample_df_tsne_non.to_pandas()\n",
    "likelihood = df_non_member['Likelihood to close'].to_numpy()\n",
    "tsne_non = TSNE(n_components=2, verbose=1, perplexity=30, n_iter=5000)\n",
    "tsne_results_non = tsne.fit_transform(variables_non)"
   ]
  },
  {
   "cell_type": "code",
   "execution_count": 114,
   "metadata": {},
   "outputs": [
    {
     "data": {
      "text/plain": [
       "nan"
      ]
     },
     "execution_count": 114,
     "metadata": {},
     "output_type": "execute_result"
    }
   ],
   "source": [
    "df_tsne_non['Likelihood to close']"
   ]
  },
  {
   "cell_type": "code",
   "execution_count": 112,
   "metadata": {},
   "outputs": [],
   "source": [
    "plot_tSNE(tsne_results_non,likelihood=likelihood)"
   ]
  },
  {
   "cell_type": "code",
   "execution_count": null,
   "metadata": {},
   "outputs": [],
   "source": []
  }
 ],
 "metadata": {
  "kernelspec": {
   "display_name": "pvda",
   "language": "python",
   "name": "python3"
  },
  "language_info": {
   "codemirror_mode": {
    "name": "ipython",
    "version": 3
   },
   "file_extension": ".py",
   "mimetype": "text/x-python",
   "name": "python",
   "nbconvert_exporter": "python",
   "pygments_lexer": "ipython3",
   "version": "3.11.7"
  }
 },
 "nbformat": 4,
 "nbformat_minor": 2
}
